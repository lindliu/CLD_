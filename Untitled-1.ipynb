{
 "cells": [
  {
   "cell_type": "code",
   "execution_count": 1,
   "metadata": {},
   "outputs": [],
   "source": [
    "import os\n",
    "import time\n",
    "import torch\n",
    "import numpy as np\n",
    "import matplotlib.pyplot as plt\n",
    "\n",
    "from models.ema import ExponentialMovingAverage\n",
    "from util.utils import optimization_manager, compute_non_image_likelihood\n",
    "import losses\n",
    "import sde_lib\n",
    "import sampling\n",
    "import likelihood\n",
    "from util.toy_data import inf_data_gen\n"
   ]
  },
  {
   "cell_type": "code",
   "execution_count": 2,
   "metadata": {},
   "outputs": [
    {
     "name": "stdout",
     "output_type": "stream",
     "text": [
      "./work_dir/cifar10_seed_0\n",
      "0\n"
     ]
    }
   ],
   "source": [
    "class Config():\n",
    "    def __init__(self):\n",
    "        self.cc = 'configs/default_cifar10.txt '\n",
    "        self.sc = 'configs/specific_cifar10.txt '\n",
    "        self.root = './'\n",
    "        self.mode = 'train'\n",
    "        self.workdir = 'work_dir/cifar10'\n",
    "        self.n_gpus_per_node = 1\n",
    "        self.training_batch_size = 64\n",
    "        self.testing_batch_size = 64\n",
    "        self.sampling_batch_size = 64\n",
    "        \n",
    "        self.eval_folder = None\n",
    "        self.cont_nbr = None\n",
    "        self.checkpoint = None\n",
    "        self.n_nodes = 1\n",
    "        self.node_rank = 0\n",
    "        self.master_address = '127.0.0.1'\n",
    "        self.master_port = 6020\n",
    "        self.distributed = False\n",
    "        self.overwrite = True\n",
    "        self.seed = 0\n",
    "\n",
    "        # Data\n",
    "        self.is_image             = False\n",
    "        self.data_dim             = 2\n",
    "\n",
    "        # Training\n",
    "        self.snapshot_freq        = 10000\n",
    "        self.snapshot_threshold   = 1\n",
    "        self.log_freq             = 5000\n",
    "        self.eval_freq            = 20000\n",
    "        self.likelihood_threshold = 2000000\n",
    "        self.likelihood_freq      = 50000\n",
    "        self.n_eval_batches       = 1\n",
    "        self.n_likelihood_batches = 1\n",
    "        self.n_warmup_iters       = 0\n",
    "        self.n_train_iters        = 800000\n",
    "        self.save_freq            = 50000\n",
    "        self.save_threshold       = 300000\n",
    "\n",
    "        # Sampling\n",
    "        self.sampling_method      = 'ode'\n",
    "        self.sampling_eps         = 1e-3\n",
    "        self.denoising            = True\n",
    "\n",
    "        # Model\n",
    "        self.name                = 'mlp'\n",
    "        self.ema_rate            = 0.999\n",
    "        self.numerical_eps       = 1e-6\n",
    "\n",
    "        # SDE\n",
    "        self.sde                 = 'cld'\n",
    "        self.beta_type           = 'linear'\n",
    "        self.beta0               = 4.0\n",
    "        self.beta1               = 0.0\n",
    "        self.m_inv               = 4.0\n",
    "        self.gamma               = 0.04\n",
    "\n",
    "        # Optimization\n",
    "        self.optimizer           = 'Adam'\n",
    "        self.learning_rate       = 1e-3\n",
    "        self.grad_clip           = 1.0\n",
    "        self.dropout             = 0.1\n",
    "        self.weight_decay        = 0.0\n",
    "\n",
    "        # Objective\n",
    "        self.cld_objective       = 'hsm'\n",
    "        self.loss_eps            = 1e-5\n",
    "        self.weighting           = 'reweightedv2'\n",
    "\n",
    "\n",
    "        # Autocast\n",
    "        self.autocast_train       = True\n",
    "        self.autocast_eval        = True\n",
    "\n",
    "        self.dataset = 'diamond'\n",
    "        self.mixed_score = False\n",
    "        \n",
    "        self.sampling_rtol = 1e-7\n",
    "        self.sampling_atol = 1e-9\n",
    "        self.sampling_solver = 'dopri5' #'euler' #\n",
    "        self.sampling_solver_options = None\n",
    "        \n",
    "\n",
    "\n",
    "        self.local_rank = 0\n",
    "        self.global_rank = 0\n",
    "        self.global_size = 0\n",
    "\n",
    "\n",
    "def make_dir(dir):\n",
    "    if not os.path.exists(dir):\n",
    "        os.makedirs(dir)\n",
    "    else:\n",
    "        raise ValueError('Directory already exists.')\n",
    "\n",
    "def set_seeds(rank, seed):\n",
    "    torch.manual_seed(rank + seed)\n",
    "    np.random.seed(rank + seed)\n",
    "    torch.cuda.manual_seed(rank + seed)\n",
    "    torch.cuda.manual_seed_all(rank + seed)\n",
    "    torch.backends.cudnn.benchmark = True\n",
    "\n",
    "config = Config()\n",
    "set_seeds(config.global_rank, config.seed)\n",
    "\n",
    "workdir = os.path.join(config.root, config.workdir +\n",
    "                        ('_seed_%d' % config.seed))\n",
    "\n",
    "print(workdir)\n",
    "\n",
    "torch.cuda.device(config.local_rank)\n",
    "config.device = torch.device('cuda:%d' % config.local_rank)\n",
    "print(config.local_rank)"
   ]
  },
  {
   "cell_type": "code",
   "execution_count": 3,
   "metadata": {},
   "outputs": [
    {
     "ename": "ValueError",
     "evalue": "Directory already exists.",
     "output_type": "error",
     "traceback": [
      "\u001b[0;31m---------------------------------------------------------------------------\u001b[0m",
      "\u001b[0;31mValueError\u001b[0m                                Traceback (most recent call last)",
      "\u001b[1;32m/home/dliu/project/py38/diffusion/CLD/Untitled-1.ipynb Cell 3\u001b[0m in \u001b[0;36m8\n\u001b[1;32m      <a href='vscode-notebook-cell:/home/dliu/project/py38/diffusion/CLD/Untitled-1.ipynb#W2sZmlsZQ%3D%3D?line=4'>5</a>\u001b[0m likelihood_dir \u001b[39m=\u001b[39m os\u001b[39m.\u001b[39mpath\u001b[39m.\u001b[39mjoin(workdir, \u001b[39m'\u001b[39m\u001b[39mlikelihood\u001b[39m\u001b[39m'\u001b[39m)\n\u001b[1;32m      <a href='vscode-notebook-cell:/home/dliu/project/py38/diffusion/CLD/Untitled-1.ipynb#W2sZmlsZQ%3D%3D?line=5'>6</a>\u001b[0m fid_dir \u001b[39m=\u001b[39m os\u001b[39m.\u001b[39mpath\u001b[39m.\u001b[39mjoin(workdir, \u001b[39m'\u001b[39m\u001b[39mfid\u001b[39m\u001b[39m'\u001b[39m)\n\u001b[0;32m----> <a href='vscode-notebook-cell:/home/dliu/project/py38/diffusion/CLD/Untitled-1.ipynb#W2sZmlsZQ%3D%3D?line=7'>8</a>\u001b[0m make_dir(sample_dir)\n\u001b[1;32m      <a href='vscode-notebook-cell:/home/dliu/project/py38/diffusion/CLD/Untitled-1.ipynb#W2sZmlsZQ%3D%3D?line=8'>9</a>\u001b[0m make_dir(checkpoint_dir)\n\u001b[1;32m     <a href='vscode-notebook-cell:/home/dliu/project/py38/diffusion/CLD/Untitled-1.ipynb#W2sZmlsZQ%3D%3D?line=9'>10</a>\u001b[0m make_dir(likelihood_dir)\n",
      "\u001b[1;32m/home/dliu/project/py38/diffusion/CLD/Untitled-1.ipynb Cell 3\u001b[0m in \u001b[0;36m9\n\u001b[1;32m     <a href='vscode-notebook-cell:/home/dliu/project/py38/diffusion/CLD/Untitled-1.ipynb#W2sZmlsZQ%3D%3D?line=93'>94</a>\u001b[0m     os\u001b[39m.\u001b[39mmakedirs(\u001b[39mdir\u001b[39m)\n\u001b[1;32m     <a href='vscode-notebook-cell:/home/dliu/project/py38/diffusion/CLD/Untitled-1.ipynb#W2sZmlsZQ%3D%3D?line=94'>95</a>\u001b[0m \u001b[39melse\u001b[39;00m:\n\u001b[0;32m---> <a href='vscode-notebook-cell:/home/dliu/project/py38/diffusion/CLD/Untitled-1.ipynb#W2sZmlsZQ%3D%3D?line=95'>96</a>\u001b[0m     \u001b[39mraise\u001b[39;00m \u001b[39mValueError\u001b[39;00m(\u001b[39m'\u001b[39m\u001b[39mDirectory already exists.\u001b[39m\u001b[39m'\u001b[39m)\n",
      "\u001b[0;31mValueError\u001b[0m: Directory already exists."
     ]
    }
   ],
   "source": [
    "# Setting up all necessary folders\n",
    "sample_dir = os.path.join(workdir, 'samples')\n",
    "tb_dir = os.path.join(workdir, 'tensorboard')\n",
    "checkpoint_dir = os.path.join(workdir, 'checkpoints')\n",
    "likelihood_dir = os.path.join(workdir, 'likelihood')\n",
    "fid_dir = os.path.join(workdir, 'fid')\n",
    "\n",
    "make_dir(sample_dir)\n",
    "make_dir(checkpoint_dir)\n",
    "make_dir(likelihood_dir)\n",
    "make_dir(fid_dir)\n",
    "make_dir(tb_dir)\n",
    "# os.makedirs(sample_dir, exist_ok=True)\n"
   ]
  },
  {
   "cell_type": "code",
   "execution_count": 4,
   "metadata": {},
   "outputs": [],
   "source": [
    "\n",
    "def build_beta_fn(config):\n",
    "    if config.beta_type == 'linear':\n",
    "        def beta_fn(t):\n",
    "            return config.beta0 + config.beta1 * t\n",
    "    return beta_fn\n",
    "\n",
    "\n",
    "def build_beta_int_fn(config):\n",
    "    if config.beta_type == 'linear':\n",
    "        def beta_int_fn(t):\n",
    "            return config.beta0 * t + 0.5 * config.beta1 * t**2\n",
    "    return beta_int_fn\n",
    "\n",
    "beta_fn = build_beta_fn(config)\n",
    "beta_int_fn = build_beta_int_fn(config)\n"
   ]
  },
  {
   "cell_type": "code",
   "execution_count": 5,
   "metadata": {},
   "outputs": [],
   "source": [
    "if config.sde == 'cld':\n",
    "    sde = sde_lib.CLD(config, beta_fn, beta_int_fn)"
   ]
  },
  {
   "cell_type": "code",
   "execution_count": 6,
   "metadata": {},
   "outputs": [],
   "source": [
    "\n",
    "import torch\n",
    "import torch.nn as nn\n",
    "\n",
    "_MODELS = {}\n",
    "\n",
    "class MLP(nn.Module):\n",
    "    def __init__(self,\n",
    "                 config,\n",
    "                 input_dim=2,\n",
    "                 index_dim=1,\n",
    "                 hidden_dim=128):\n",
    "\n",
    "        super().__init__()\n",
    "\n",
    "        act = nn.SiLU()\n",
    "\n",
    "        self.x_input = True\n",
    "        self.v_input = True if config.sde == 'cld' else False\n",
    "\n",
    "        if self.x_input and self.v_input:\n",
    "            in_dim = input_dim * 2 + index_dim\n",
    "        else:\n",
    "            in_dim = input_dim + index_dim\n",
    "        out_dim = input_dim\n",
    "\n",
    "        self.main = nn.Sequential(nn.Linear(in_dim, hidden_dim),\n",
    "                                  act,\n",
    "                                  nn.Linear(hidden_dim, hidden_dim),\n",
    "                                  act,\n",
    "                                  nn.Linear(hidden_dim, hidden_dim),\n",
    "                                  act,\n",
    "                                  nn.Linear(hidden_dim, hidden_dim),\n",
    "                                  act,\n",
    "                                  nn.Linear(hidden_dim, out_dim))\n",
    "\n",
    "    def forward(self, u, t):\n",
    "        h = torch.cat([u, t.reshape(-1, 1)], dim=1)\n",
    "        output = self.main(h)\n",
    "\n",
    "        return output\n",
    "\n",
    "_MODELS['mlp'] = MLP"
   ]
  },
  {
   "cell_type": "code",
   "execution_count": 7,
   "metadata": {},
   "outputs": [
    {
     "data": {
      "text/plain": [
       "MLP(\n",
       "  (main): Sequential(\n",
       "    (0): Linear(in_features=5, out_features=128, bias=True)\n",
       "    (1): SiLU()\n",
       "    (2): Linear(in_features=128, out_features=128, bias=True)\n",
       "    (3): SiLU()\n",
       "    (4): Linear(in_features=128, out_features=128, bias=True)\n",
       "    (5): SiLU()\n",
       "    (6): Linear(in_features=128, out_features=128, bias=True)\n",
       "    (7): SiLU()\n",
       "    (8): Linear(in_features=128, out_features=2, bias=True)\n",
       "  )\n",
       ")"
      ]
     },
     "execution_count": 7,
     "metadata": {},
     "output_type": "execute_result"
    }
   ],
   "source": [
    "from models import utils as mutils\n",
    "\n",
    "def get_model(name):\n",
    "    return _MODELS[name]\n",
    "\n",
    "model_name = config.name\n",
    "score_model = get_model(model_name)(config)\n",
    "\n",
    "score_model = score_model.to(config.device)\n",
    "score_model\n"
   ]
  },
  {
   "cell_type": "code",
   "execution_count": 8,
   "metadata": {},
   "outputs": [
    {
     "data": {
      "text/plain": [
       "<models.ema.ExponentialMovingAverage at 0x7f72c62b6760>"
      ]
     },
     "execution_count": 8,
     "metadata": {},
     "output_type": "execute_result"
    }
   ],
   "source": [
    "\n",
    "ema = ExponentialMovingAverage(\n",
    "    score_model.parameters(), decay=config.ema_rate)\n",
    "ema"
   ]
  },
  {
   "cell_type": "code",
   "execution_count": 9,
   "metadata": {},
   "outputs": [],
   "source": [
    "model_parameters = filter(\n",
    "            lambda p: p.requires_grad, score_model.parameters())\n",
    "n_params = sum([np.prod(p.size()) for p in model_parameters])"
   ]
  },
  {
   "cell_type": "code",
   "execution_count": 10,
   "metadata": {},
   "outputs": [],
   "source": [
    "from torch.optim import Adam as Adam\n",
    "\n",
    "optim_params = score_model.parameters()\n",
    "optimizer = Adam(optim_params, \n",
    "                lr=config.learning_rate, \n",
    "                weight_decay=config.weight_decay)\n",
    "state = dict(optimizer=optimizer, model=score_model, ema=ema, step=0)\n"
   ]
  },
  {
   "cell_type": "code",
   "execution_count": 11,
   "metadata": {},
   "outputs": [],
   "source": [
    "num_total_iter = config.n_train_iters\n",
    "\n",
    "optimize_fn = optimization_manager(config)\n"
   ]
  },
  {
   "cell_type": "code",
   "execution_count": 12,
   "metadata": {},
   "outputs": [],
   "source": [
    "train_step_fn = losses.get_step_fn(True, optimize_fn, sde, config)"
   ]
  },
  {
   "cell_type": "code",
   "execution_count": 13,
   "metadata": {},
   "outputs": [],
   "source": [
    "\n",
    "sampling_shape = (config.sampling_batch_size,\n",
    "                    config.data_dim)\n",
    "sampling_fn = sampling.get_sampling_fn(\n",
    "    config, sde, sampling_shape, config.sampling_eps)\n",
    "\n",
    "likelihood_fn = likelihood.get_likelihood_fn(config, sde)\n",
    "\n",
    "step = int(state['step'])"
   ]
  },
  {
   "cell_type": "code",
   "execution_count": 15,
   "metadata": {},
   "outputs": [
    {
     "ename": "KeyboardInterrupt",
     "evalue": "",
     "output_type": "error",
     "traceback": [
      "\u001b[0;31m---------------------------------------------------------------------------\u001b[0m",
      "\u001b[0;31mKeyboardInterrupt\u001b[0m                         Traceback (most recent call last)",
      "\u001b[1;32m/home/dliu/project/py38/diffusion/CLD/Untitled-1.ipynb Cell 14\u001b[0m in \u001b[0;36m3\n\u001b[1;32m     <a href='vscode-notebook-cell:/home/dliu/project/py38/diffusion/CLD/Untitled-1.ipynb#X16sZmlsZQ%3D%3D?line=30'>31</a>\u001b[0m start_time \u001b[39m=\u001b[39m time\u001b[39m.\u001b[39mtime()\n\u001b[1;32m     <a href='vscode-notebook-cell:/home/dliu/project/py38/diffusion/CLD/Untitled-1.ipynb#X16sZmlsZQ%3D%3D?line=32'>33</a>\u001b[0m x \u001b[39m=\u001b[39m inf_data_gen(config\u001b[39m.\u001b[39mdataset, config\u001b[39m.\u001b[39mtraining_batch_size)\u001b[39m.\u001b[39mto(\n\u001b[1;32m     <a href='vscode-notebook-cell:/home/dliu/project/py38/diffusion/CLD/Untitled-1.ipynb#X16sZmlsZQ%3D%3D?line=33'>34</a>\u001b[0m     config\u001b[39m.\u001b[39mdevice)\n\u001b[0;32m---> <a href='vscode-notebook-cell:/home/dliu/project/py38/diffusion/CLD/Untitled-1.ipynb#X16sZmlsZQ%3D%3D?line=34'>35</a>\u001b[0m loss \u001b[39m=\u001b[39m train_step_fn(state, x)\n\u001b[1;32m     <a href='vscode-notebook-cell:/home/dliu/project/py38/diffusion/CLD/Untitled-1.ipynb#X16sZmlsZQ%3D%3D?line=36'>37</a>\u001b[0m step \u001b[39m+\u001b[39m\u001b[39m=\u001b[39m \u001b[39m1\u001b[39m\n\u001b[1;32m     <a href='vscode-notebook-cell:/home/dliu/project/py38/diffusion/CLD/Untitled-1.ipynb#X16sZmlsZQ%3D%3D?line=38'>39</a>\u001b[0m \u001b[39mif\u001b[39;00m step\u001b[39m%\u001b[39m\u001b[39m5000\u001b[39m\u001b[39m==\u001b[39m\u001b[39m0\u001b[39m:\n",
      "File \u001b[0;32m~/project/py38/diffusion/CLD/losses.py:84\u001b[0m, in \u001b[0;36mget_step_fn.<locals>.step_fn\u001b[0;34m(state, batch, optimization)\u001b[0m\n\u001b[1;32m     82\u001b[0m optimizer\u001b[39m.\u001b[39mzero_grad()\n\u001b[1;32m     83\u001b[0m \u001b[39mwith\u001b[39;00m autocast(enabled\u001b[39m=\u001b[39mconfig\u001b[39m.\u001b[39mautocast_train):\n\u001b[0;32m---> 84\u001b[0m     loss \u001b[39m=\u001b[39m torch\u001b[39m.\u001b[39mmean(loss_fn(model, batch))\n\u001b[1;32m     86\u001b[0m \u001b[39mif\u001b[39;00m optimization:\n\u001b[1;32m     87\u001b[0m     \u001b[39mif\u001b[39;00m config\u001b[39m.\u001b[39mautocast_train:\n",
      "File \u001b[0;32m~/project/py38/diffusion/CLD/losses.py:50\u001b[0m, in \u001b[0;36mget_loss_fn.<locals>.loss_fn\u001b[0;34m(model, x)\u001b[0m\n\u001b[1;32m     47\u001b[0m multiplier \u001b[39m=\u001b[39m sde\u001b[39m.\u001b[39mloss_multiplier(t)\u001b[39m.\u001b[39mtype(torch\u001b[39m.\u001b[39mfloat32)\n\u001b[1;32m     48\u001b[0m multiplier \u001b[39m=\u001b[39m add_dimensions(multiplier, config\u001b[39m.\u001b[39mis_image)\n\u001b[0;32m---> 50\u001b[0m noise_multiplier \u001b[39m=\u001b[39m sde\u001b[39m.\u001b[39;49mnoise_multiplier(t)\u001b[39m.\u001b[39mtype(torch\u001b[39m.\u001b[39mfloat32)\n\u001b[1;32m     52\u001b[0m \u001b[39mif\u001b[39;00m config\u001b[39m.\u001b[39mweighting \u001b[39m==\u001b[39m \u001b[39m'\u001b[39m\u001b[39mreweightedv1\u001b[39m\u001b[39m'\u001b[39m:\n\u001b[1;32m     53\u001b[0m     loss \u001b[39m=\u001b[39m (score \u001b[39m/\u001b[39m noise_multiplier \u001b[39m-\u001b[39m batch_randn)\u001b[39m*\u001b[39m\u001b[39m*\u001b[39m\u001b[39m2\u001b[39m \u001b[39m*\u001b[39m multiplier\n",
      "File \u001b[0;32m~/project/py38/diffusion/CLD/sde_lib.py:141\u001b[0m, in \u001b[0;36mCLD.noise_multiplier\u001b[0;34m(self, t, var0x, var0v)\u001b[0m\n\u001b[1;32m    137\u001b[0m \u001b[39m'''\u001b[39;00m\n\u001b[1;32m    138\u001b[0m \u001b[39mEvaluating the -\\ell_t multiplier. Similar to -1/standard deviaton in VPSDE.\u001b[39;00m\n\u001b[1;32m    139\u001b[0m \u001b[39m'''\u001b[39;00m\n\u001b[1;32m    140\u001b[0m var \u001b[39m=\u001b[39m \u001b[39mself\u001b[39m\u001b[39m.\u001b[39mvar(t, var0x, var0v)\n\u001b[0;32m--> 141\u001b[0m coeff \u001b[39m=\u001b[39m torch\u001b[39m.\u001b[39msqrt(var[\u001b[39m0\u001b[39m] \u001b[39m/\u001b[39m (var[\u001b[39m0\u001b[39;49m] \u001b[39m*\u001b[39;49m var[\u001b[39m2\u001b[39;49m] \u001b[39m-\u001b[39m var[\u001b[39m1\u001b[39m]\u001b[39m*\u001b[39m\u001b[39m*\u001b[39m\u001b[39m2\u001b[39m))\n\u001b[1;32m    143\u001b[0m \u001b[39mif\u001b[39;00m torch\u001b[39m.\u001b[39msum(torch\u001b[39m.\u001b[39misnan(coeff)) \u001b[39m>\u001b[39m \u001b[39m0\u001b[39m:\n\u001b[1;32m    144\u001b[0m     \u001b[39mraise\u001b[39;00m \u001b[39mValueError\u001b[39;00m(\u001b[39m'\u001b[39m\u001b[39mNumerical precision error.\u001b[39m\u001b[39m'\u001b[39m)\n",
      "\u001b[0;31mKeyboardInterrupt\u001b[0m: "
     ]
    }
   ],
   "source": [
    "while step < num_total_iter:\n",
    "    if step % config.likelihood_freq == 0 and step >= config.likelihood_threshold:\n",
    "        ema.store(score_model.parameters())\n",
    "        ema.copy_to(score_model.parameters())\n",
    "        mean_nll = compute_non_image_likelihood(\n",
    "            config, sde, state, likelihood_fn, inf_data_gen, step=step, likelihood_dir=likelihood_dir)\n",
    "        ema.restore(score_model.parameters())\n",
    "\n",
    "    if (step % config.snapshot_freq == 0 or step == num_total_iter) and config.global_rank == 0 and step >= config.snapshot_threshold:\n",
    "\n",
    "        ema.store(score_model.parameters())\n",
    "        ema.copy_to(score_model.parameters())\n",
    "        x, v, nfe = sampling_fn(score_model)\n",
    "        ema.restore(score_model.parameters())\n",
    "\n",
    "        this_sample_dir = os.path.join(sample_dir, 'iter_%d' % step)\n",
    "        make_dir(this_sample_dir)\n",
    "\n",
    "        plt.scatter(x.cpu().numpy()[:, 0], x.cpu().numpy()[:, 1], s=3)\n",
    "        plt.savefig(os.path.join(this_sample_dir,\n",
    "                    'sample_rank_%d.png' % config.global_rank))\n",
    "        plt.close()\n",
    "\n",
    "        if config.sde == 'cld':\n",
    "            np.save(os.path.join(this_sample_dir, 'sample_x'), x.cpu())\n",
    "            np.save(os.path.join(this_sample_dir, 'sample_v'), v.cpu())\n",
    "        else:\n",
    "            np.save(os.path.join(this_sample_dir, 'sample'), x.cpu())\n",
    "\n",
    "    # Training\n",
    "    start_time = time.time()\n",
    "\n",
    "    x = inf_data_gen(config.dataset, config.training_batch_size).to(\n",
    "        config.device)\n",
    "    loss = train_step_fn(state, x)\n",
    "\n",
    "    step += 1\n",
    "\n",
    "    if step%5000==0:\n",
    "        print(f'{step}: {loss}')\n"
   ]
  },
  {
   "cell_type": "code",
   "execution_count": 27,
   "metadata": {},
   "outputs": [],
   "source": [
    "WIDTH = 3\n",
    "BOUND = 0.5\n",
    "NOISE = 0.04\n",
    "ROTATION_MATRIX = np.array([[1., -1.], [1., 1.]]) / np.sqrt(2.)\n",
    "\n",
    "means = np.array([(x, y) for x in np.linspace(-BOUND, BOUND, WIDTH)\n",
    "                    for y in np.linspace(-BOUND, BOUND, WIDTH)])\n",
    "means = means @ ROTATION_MATRIX\n",
    "covariance_factor = NOISE * np.eye(2)\n",
    "\n",
    "index = np.random.choice(\n",
    "    range(WIDTH ** 2), size=64, replace=True)\n",
    "noise = np.random.randn(64, 2)\n",
    "data = means[index] + noise @ covariance_factor"
   ]
  },
  {
   "cell_type": "code",
   "execution_count": 28,
   "metadata": {},
   "outputs": [
    {
     "data": {
      "text/plain": [
       "array([[-0.70710678,  0.        ],\n",
       "       [-0.35355339,  0.35355339],\n",
       "       [ 0.        ,  0.70710678],\n",
       "       [-0.35355339, -0.35355339],\n",
       "       [ 0.        ,  0.        ],\n",
       "       [ 0.35355339,  0.35355339],\n",
       "       [ 0.        , -0.70710678],\n",
       "       [ 0.35355339, -0.35355339],\n",
       "       [ 0.70710678,  0.        ]])"
      ]
     },
     "execution_count": 28,
     "metadata": {},
     "output_type": "execute_result"
    }
   ],
   "source": [
    "means"
   ]
  },
  {
   "cell_type": "code",
   "execution_count": 29,
   "metadata": {},
   "outputs": [
    {
     "data": {
      "text/plain": [
       "<matplotlib.collections.PathCollection at 0x7f17d1a58e20>"
      ]
     },
     "execution_count": 29,
     "metadata": {},
     "output_type": "execute_result"
    },
    {
     "data": {
      "image/png": "[encoded data removed]",
      "text/plain": [
       "<Figure size 640x480 with 1 Axes>"
      ]
     },
     "metadata": {},
     "output_type": "display_data"
    }
   ],
   "source": [
    "import matplotlib.pyplot as plt\n",
    "plt.scatter(data[:,0],data[:,1])"
   ]
  },
  {
   "cell_type": "code",
   "execution_count": 6,
   "metadata": {},
   "outputs": [
    {
     "name": "stdout",
     "output_type": "stream",
     "text": [
      "Take first 91665 data points from (91665, 2)\n"
     ]
    }
   ],
   "source": [
    "import pandas as pd\n",
    "import glob\n",
    "import numpy as np\n",
    "import torch\n",
    "import os\n",
    "\n",
    "def get_idx(x, sigma, x_lower_bound=-1, s_lower_bound=-10):\n",
    "    \"\"\"\n",
    "    Input: \n",
    "        x: 1d data in [-inf, 1]\n",
    "        sigma: 1d data in [0,1]\n",
    "        \n",
    "    Output: \n",
    "        the minimum index that all x>x_lower_bound and sigma>s_lower_bound\n",
    "    \"\"\"\n",
    "    x_idx = []\n",
    "    for i in range(x.shape[1]):\n",
    "        if False not in list(x[:,i]>x_lower_bound):\n",
    "            x_idx_ = x.shape[0]\n",
    "        else:\n",
    "            x_idx_ = list(x[:,i]>x_lower_bound).index(False)\n",
    "        x_idx.append(x_idx_)\n",
    "    x_idx = min(x_idx)\n",
    "    \n",
    "    sigma = sigma.flatten()\n",
    "    if False not in list(sigma>s_lower_bound):\n",
    "        s_idx = x.shape[0]\n",
    "    else:\n",
    "        s_idx = list(sigma>s_lower_bound).index(False)\n",
    "        \n",
    "    idx = min(x_idx, s_idx)\n",
    "    return idx\n",
    "\n",
    "\n",
    "def collect_datasets(data_pathes, x_lower_bound=-1):\n",
    "    \n",
    "    t_several, x_several, sigma_several = [], [], []\n",
    "    for i in range(len(data_pathes)):\n",
    "        data_var = pd.read_csv(data_pathes[i], delimiter=' ',header=None).to_numpy()\n",
    "    \n",
    "        t_ = data_var[:,[0]]\n",
    "        x_ = data_var[:,1:-1]\n",
    "        sigma_ = data_var[:,[-1]]\n",
    "    \n",
    "        idx = get_idx(x_,sigma_,x_lower_bound)\n",
    "        print(\"Take first {} data points from {}\".format(idx, x_.shape))\n",
    "        t_ = t_[:idx]\n",
    "        x_ = x_[:idx]\n",
    "        sigma_ = sigma_[:idx]\n",
    "    \n",
    "        t_several.append(t_)\n",
    "        x_several.append(x_)\n",
    "        sigma_several.append(sigma_)\n",
    "\n",
    "    return t_several, x_several, sigma_several\n",
    "\n",
    "\n",
    "def collect_datasets_diff(t_several, x_several, sigma_several, kx=1, ks=1):\n",
    "    \"\"\"\n",
    "    x1,x2 and s1,s2 is for calculating numerical derivative\n",
    "    diff_x = (x2-x1)/dt\n",
    "    diff_s = (s2-s1)/dt\n",
    "    \n",
    "    if we are trying to calculate diff_x, then kx=1, since x data has no noise.\n",
    "    \"\"\"\n",
    "    assert kx<=ks, \"kx should no lager than ks, since x has no noise\"\n",
    "    \n",
    "    x1, s1 = [], []\n",
    "    x2, s2 = [], []\n",
    "    dt_x, dt_s = [], []\n",
    "    for ttt, xxx, sss in zip(t_several, x_several, sigma_several):\n",
    "        dt_s.extend(list(ttt[ks:,:] - ttt[:-ks,:]))\n",
    "        s1.extend(list(sss[:-ks,:]))\n",
    "        s2.extend(list(sss[ks:,:]))\n",
    "        \n",
    "        if -ks+kx != 0:\n",
    "            dt_x.extend(list((ttt[kx:,:] - ttt[:-kx,:])[:-ks+kx]))\n",
    "            x1.extend(list((xxx[:-kx,:])[:-ks+kx,:]))\n",
    "            x2.extend(list((xxx[kx:,:])[:-ks+kx,:]))\n",
    "        else:\n",
    "            dt_x.extend(list((ttt[kx:,:] - ttt[:-kx,:])))\n",
    "            x1.extend(list((xxx[:-kx,:])))\n",
    "            x2.extend(list((xxx[kx:,:])))\n",
    "        \n",
    "    x1, s1 = np.array(x1), np.array(s1)\n",
    "    x2, s2 = np.array(x2), np.array(s2)\n",
    "    dt_x = np.array(dt_x)\n",
    "    dt_s = np.array(dt_s)\n",
    "    \n",
    "    return x1, x2, s1, s2, dt_x, dt_s\n",
    "\n",
    "\n",
    "def get_dataset(data_pathes, x_lower_bound=-1, kx=1, ks=1, resample=False):\n",
    "    assert ks>=kx, \"ks should lager than kx\"\n",
    "    \n",
    "    datasets_all = collect_datasets(data_pathes, x_lower_bound=x_lower_bound)\n",
    "    t_several, x_several, sigma_several = datasets_all\n",
    "\n",
    "    x1, x2, s1, s2, dt_x, dt_s = collect_datasets_diff(t_several, x_several, sigma_several, kx=kx, ks=ks)\n",
    "    diff_x = (x2-x1)/dt_x\n",
    "    diff_s = (s2-s1)/dt_s\n",
    "    \n",
    "    if not resample:\n",
    "        return x1, x2, s1, s2, diff_x, diff_s, dt_x, dt_s\n",
    "    \n",
    "\n",
    "device = torch.device(\"cuda:0\" if torch.cuda.is_available() else \"cpu\")\n",
    "dev = '_cpu' if device.type=='cpu' else ''\n",
    "\n",
    "class parameters(object):\n",
    "    def __init__(self, data_type='CGL', n_trainset=1, kx=1, ks=10, x_lower_bound=-float('Inf'), \\\n",
    "                 shape=[30,20,50], batchsize=1024, lr=5e-4):\n",
    "        assert data_type in ['CGL', 'Saddle_low', 'Saddle_high'], 'wrong data type'\n",
    "        \n",
    "        self.n_trainset = n_trainset\n",
    "        self.x_lower_bound = x_lower_bound\n",
    "        self.kx = kx\n",
    "        self.ks = ks\n",
    "        \n",
    "        self.bins_x = shape[0]\n",
    "        self.bins_s = shape[1]\n",
    "        self.bins_u = shape[2]\n",
    "        \n",
    "        self.batchsize = batchsize\n",
    "        self.lr = lr\n",
    "        \n",
    "        self.data_type = data_type\n",
    "        if data_type=='CGL':\n",
    "            self.data_pathes = glob.glob(os.path.abspath('./data/Hopf_datasets/*coupled.data'))\n",
    "        elif data_type=='Saddle_low':\n",
    "            self.data_pathes = glob.glob(os.path.abspath('.data/Saddle_datasets_low_noise/*data'))\n",
    "        elif data_type=='Saddle_high':\n",
    "            self.data_pathes = glob.glob(os.path.abspath('.data/Saddle_datasets_high_noise/*data'))\n",
    "        self.data_pathes = sorted(self.data_pathes, key=lambda x: int(os.path.split(x)[1].split('_')[0]))\n",
    "\n",
    "        suffix = '{}_{}_{}_{}{}'.format(self.x_lower_bound,self.ks,self.n_trainset,data_type,dev)\n",
    "        \n",
    "        self.model_f_path = os.path.abspath('./models/model_N_{}.pt'.format(suffix))\n",
    "        self.model_dist_path = os.path.abspath('./models/model_K_{}.pt'.format(suffix))\n",
    "        self.model_std_mean_path = os.path.abspath('./models/model_H_{}.pt'.format(suffix))\n",
    "        \n",
    "        self.model_gen_path = os.path.abspath('./models/gen_{}.pt'.format(suffix))\n",
    "        self.model_dis_path = os.path.abspath('./models/dis_{}.pt'.format(suffix))\n",
    "        \n",
    "        self.model_sde_path = os.path.abspath('./models/sde_{}.pt'.format(suffix))\n",
    "\n",
    "params = parameters(data_type='CGL', n_trainset=1, kx=1, ks=10, lr=5e-4)\n",
    "\n",
    "data_train_pathes = params.data_pathes[:params.n_trainset]\n",
    "### load data ###\n",
    "x_lower_bound = params.x_lower_bound\n",
    "kx = params.kx\n",
    "ks = params.ks\n",
    "x1, x2, s1, s2, diff_x, diff_s, dt_x, dt_s = \\\n",
    "    get_dataset(data_train_pathes, x_lower_bound=x_lower_bound, kx=kx, ks=ks, resample=False)\n",
    "\n"
   ]
  },
  {
   "cell_type": "code",
   "execution_count": 8,
   "metadata": {},
   "outputs": [
    {
     "data": {
      "text/plain": [
       "<matplotlib.collections.PathCollection at 0x7f4347a08c40>"
      ]
     },
     "execution_count": 8,
     "metadata": {},
     "output_type": "execute_result"
    },
    {
     "data": {
      "image/png": "[encoded data removed]",
      "text/plain": [
       "<Figure size 640x480 with 2 Axes>"
      ]
     },
     "metadata": {},
     "output_type": "display_data"
    }
   ],
   "source": [
    "import matplotlib.pyplot as plt\n",
    "\n",
    "fig, ax = plt.subplots(1,2)\n",
    "ax[0].plot(x1[:1000,:])\n",
    "ax[0].plot(s1[:1000])\n",
    "ax[1].scatter(x1[:1000,0], s1[:1000])"
   ]
  },
  {
   "cell_type": "code",
   "execution_count": 9,
   "metadata": {},
   "outputs": [
    {
     "data": {
      "text/plain": [
       "tensor([[ 0.3940,  0.7160],\n",
       "        [ 0.4884,  0.6690],\n",
       "        [-1.2890,  0.9700],\n",
       "        [ 0.7793,  0.6150],\n",
       "        [-0.9256,  0.9840],\n",
       "        [ 0.8576,  0.5230],\n",
       "        [ 0.5180,  0.6340],\n",
       "        [-1.1211,  0.9880],\n",
       "        [ 0.0332,  0.8070],\n",
       "        [ 0.4895,  0.6860],\n",
       "        [-0.6191,  0.9740],\n",
       "        [-1.0931,  0.9900],\n",
       "        [ 0.6004,  0.6360],\n",
       "        [ 0.3500,  0.7240],\n",
       "        [ 0.4597,  0.7030],\n",
       "        [-0.1365,  0.9290],\n",
       "        [-1.1416,  0.9870],\n",
       "        [ 0.1990,  0.8460],\n",
       "        [-1.3260,  0.9770],\n",
       "        [-1.0583,  0.9870],\n",
       "        [-1.1429,  0.9910],\n",
       "        [-1.5239,  0.9990],\n",
       "        [ 0.8739,  0.4610],\n",
       "        [-1.5016,  0.9950],\n",
       "        [ 0.3502,  0.7390],\n",
       "        [ 0.1872,  0.8600],\n",
       "        [ 0.8757,  0.4940],\n",
       "        [ 0.3627,  0.7030],\n",
       "        [ 0.4202,  0.6940],\n",
       "        [-0.9252,  0.9830],\n",
       "        [ 0.7134,  0.5260],\n",
       "        [-0.4875,  0.9630],\n",
       "        [ 0.5762,  0.6240],\n",
       "        [ 0.8662,  0.4710],\n",
       "        [ 0.3937,  0.6930],\n",
       "        [-1.5381,  0.9930],\n",
       "        [ 0.4444,  0.7030],\n",
       "        [ 0.7789,  0.5330],\n",
       "        [ 0.7391,  0.5630],\n",
       "        [-1.1740,  0.9920],\n",
       "        [-0.8595,  0.9870],\n",
       "        [ 0.7498,  0.5410],\n",
       "        [ 0.6559,  0.5620],\n",
       "        [ 0.5266,  0.6780],\n",
       "        [ 0.8895,  0.4880],\n",
       "        [-0.1695,  0.8660],\n",
       "        [ 0.5067,  0.6540],\n",
       "        [-0.6052,  0.9720],\n",
       "        [ 0.3344,  0.7190],\n",
       "        [-0.4143,  0.9640],\n",
       "        [-1.0867,  0.9890],\n",
       "        [ 0.2488,  0.7570],\n",
       "        [-1.1911,  0.9920],\n",
       "        [-1.0653,  0.9930],\n",
       "        [ 0.2442,  0.7830],\n",
       "        [ 0.1788,  0.7770],\n",
       "        [ 0.0856,  0.8170],\n",
       "        [-0.7977,  0.9790],\n",
       "        [-0.9961,  0.9820],\n",
       "        [ 0.8423,  0.5030],\n",
       "        [ 0.6240,  0.6230],\n",
       "        [-0.7938,  0.9850],\n",
       "        [-0.7743,  0.9780],\n",
       "        [-0.9058,  0.9770]], device='cuda:0', dtype=torch.float64)"
      ]
     },
     "execution_count": 9,
     "metadata": {},
     "output_type": "execute_result"
    },
    {
     "data": {
      "image/png": "[encoded data removed]",
      "text/plain": [
       "<Figure size 640x480 with 1 Axes>"
      ]
     },
     "metadata": {},
     "output_type": "display_data"
    }
   ],
   "source": [
    "x = np.c_[x1[1000:,0],s1[1000:]]\n",
    "plt.scatter(x[:,0], x[:,1])\n",
    "\n",
    "idx = np.random.randint(0,x.shape[0],64)\n",
    "torch.tensor(x[idx]).to(device)"
   ]
  },
  {
   "cell_type": "code",
   "execution_count": 31,
   "metadata": {},
   "outputs": [
    {
     "data": {
      "image/png": "[encoded data removed]",
      "text/plain": [
       "<Figure size 640x480 with 1 Axes>"
      ]
     },
     "metadata": {},
     "output_type": "display_data"
    }
   ],
   "source": [
    "s = s1.flatten()[100:91100]\n",
    "\n",
    "ss = np.zeros([1000,90000])\n",
    "\n",
    "bins = 50\n",
    "hist = np.zeros([1000,bins])\n",
    "for i in range(1000):\n",
    "    ss[i,:] = s[i:90000+i]\n",
    "    a = plt.hist(ss[i,:], bins=bins)\n",
    "    hist[i,:] = a[0]/a[0].sum()\n",
    "# plt.plot(s[:1000])\n",
    "\n"
   ]
  },
  {
   "cell_type": "code",
   "execution_count": 67,
   "metadata": {},
   "outputs": [
    {
     "data": {
      "text/plain": [
       "<matplotlib.image.AxesImage at 0x7f42239162b0>"
      ]
     },
     "execution_count": 67,
     "metadata": {},
     "output_type": "execute_result"
    },
    {
     "data": {
      "image/png": "[encoded data removed]",
      "text/plain": [
       "<Figure size 640x480 with 1 Axes>"
      ]
     },
     "metadata": {},
     "output_type": "display_data"
    }
   ],
   "source": [
    "\n",
    "\n",
    "from scipy import ndimage\n",
    "\n",
    "hist_ = ndimage.zoom(hist, zoom = (.1,1))##线性插值\n",
    "plt.imshow(hist_.transpose(1,0))"
   ]
  },
  {
   "cell_type": "code",
   "execution_count": null,
   "metadata": {},
   "outputs": [],
   "source": []
  },
  {
   "cell_type": "code",
   "execution_count": 18,
   "metadata": {},
   "outputs": [],
   "source": [
    "\n",
    "\n",
    "def get_CGL(x1, s1, batch_size):\n",
    "    x = np.c_[x1[1000:,0],s1[1000:]]\n",
    "    idx = np.random.randint(0,x.shape[0],batch_size)\n",
    "    x_batch = torch.tensor(x[idx]).to(device)\n",
    "    return x_batch"
   ]
  },
  {
   "cell_type": "code",
   "execution_count": null,
   "metadata": {},
   "outputs": [],
   "source": []
  },
  {
   "cell_type": "code",
   "execution_count": 23,
   "metadata": {},
   "outputs": [
    {
     "ename": "KeyboardInterrupt",
     "evalue": "",
     "output_type": "error",
     "traceback": [
      "\u001b[0;31m---------------------------------------------------------------------------\u001b[0m",
      "\u001b[0;31mKeyboardInterrupt\u001b[0m                         Traceback (most recent call last)",
      "\u001b[1;32m/home/dliu/project/py38/diffusion/CLD/Untitled-1.ipynb Cell 23\u001b[0m in \u001b[0;36m3\n\u001b[1;32m     <a href='vscode-notebook-cell:/home/dliu/project/py38/diffusion/CLD/Untitled-1.ipynb#X31sZmlsZQ%3D%3D?line=30'>31</a>\u001b[0m start_time \u001b[39m=\u001b[39m time\u001b[39m.\u001b[39mtime()\n\u001b[1;32m     <a href='vscode-notebook-cell:/home/dliu/project/py38/diffusion/CLD/Untitled-1.ipynb#X31sZmlsZQ%3D%3D?line=32'>33</a>\u001b[0m \u001b[39m# x = inf_data_gen(config.dataset, config.training_batch_size).to(\u001b[39;00m\n\u001b[1;32m     <a href='vscode-notebook-cell:/home/dliu/project/py38/diffusion/CLD/Untitled-1.ipynb#X31sZmlsZQ%3D%3D?line=33'>34</a>\u001b[0m \u001b[39m#     config.device)\u001b[39;00m\n\u001b[0;32m---> <a href='vscode-notebook-cell:/home/dliu/project/py38/diffusion/CLD/Untitled-1.ipynb#X31sZmlsZQ%3D%3D?line=34'>35</a>\u001b[0m x \u001b[39m=\u001b[39m get_CGL(x1, s1, config\u001b[39m.\u001b[39;49mtraining_batch_size)\n\u001b[1;32m     <a href='vscode-notebook-cell:/home/dliu/project/py38/diffusion/CLD/Untitled-1.ipynb#X31sZmlsZQ%3D%3D?line=35'>36</a>\u001b[0m loss \u001b[39m=\u001b[39m train_step_fn(state, x)\n\u001b[1;32m     <a href='vscode-notebook-cell:/home/dliu/project/py38/diffusion/CLD/Untitled-1.ipynb#X31sZmlsZQ%3D%3D?line=37'>38</a>\u001b[0m step \u001b[39m+\u001b[39m\u001b[39m=\u001b[39m \u001b[39m1\u001b[39m\n",
      "\u001b[1;32m/home/dliu/project/py38/diffusion/CLD/Untitled-1.ipynb Cell 23\u001b[0m in \u001b[0;36m2\n\u001b[1;32m      <a href='vscode-notebook-cell:/home/dliu/project/py38/diffusion/CLD/Untitled-1.ipynb#X31sZmlsZQ%3D%3D?line=0'>1</a>\u001b[0m \u001b[39mdef\u001b[39;00m \u001b[39mget_CGL\u001b[39m(x1, s1, batch_size):\n\u001b[0;32m----> <a href='vscode-notebook-cell:/home/dliu/project/py38/diffusion/CLD/Untitled-1.ipynb#X31sZmlsZQ%3D%3D?line=1'>2</a>\u001b[0m     x \u001b[39m=\u001b[39m np\u001b[39m.\u001b[39;49mc_[x1[\u001b[39m1000\u001b[39;49m:,\u001b[39m0\u001b[39;49m],s1[\u001b[39m1000\u001b[39;49m:]]\n\u001b[1;32m      <a href='vscode-notebook-cell:/home/dliu/project/py38/diffusion/CLD/Untitled-1.ipynb#X31sZmlsZQ%3D%3D?line=2'>3</a>\u001b[0m     idx \u001b[39m=\u001b[39m np\u001b[39m.\u001b[39mrandom\u001b[39m.\u001b[39mrandint(\u001b[39m0\u001b[39m,x\u001b[39m.\u001b[39mshape[\u001b[39m0\u001b[39m],batch_size)\n\u001b[1;32m      <a href='vscode-notebook-cell:/home/dliu/project/py38/diffusion/CLD/Untitled-1.ipynb#X31sZmlsZQ%3D%3D?line=3'>4</a>\u001b[0m     x_batch \u001b[39m=\u001b[39m torch\u001b[39m.\u001b[39mtensor(x[idx])\u001b[39m.\u001b[39mto(device)\n",
      "File \u001b[0;32m~/miniconda3/envs/py38/lib/python3.8/site-packages/numpy/lib/index_tricks.py:412\u001b[0m, in \u001b[0;36mAxisConcatenator.__getitem__\u001b[0;34m(self, key)\u001b[0m\n\u001b[1;32m    409\u001b[0m     \u001b[39mfor\u001b[39;00m k \u001b[39min\u001b[39;00m scalars:\n\u001b[1;32m    410\u001b[0m         objs[k] \u001b[39m=\u001b[39m objs[k]\u001b[39m.\u001b[39mastype(final_dtype)\n\u001b[0;32m--> 412\u001b[0m res \u001b[39m=\u001b[39m \u001b[39mself\u001b[39;49m\u001b[39m.\u001b[39;49mconcatenate(\u001b[39mtuple\u001b[39;49m(objs), axis\u001b[39m=\u001b[39;49maxis)\n\u001b[1;32m    414\u001b[0m \u001b[39mif\u001b[39;00m matrix:\n\u001b[1;32m    415\u001b[0m     oldndim \u001b[39m=\u001b[39m res\u001b[39m.\u001b[39mndim\n",
      "File \u001b[0;32m<__array_function__ internals>:180\u001b[0m, in \u001b[0;36mconcatenate\u001b[0;34m(*args, **kwargs)\u001b[0m\n",
      "\u001b[0;31mKeyboardInterrupt\u001b[0m: "
     ]
    }
   ],
   "source": [
    "while step < num_total_iter:\n",
    "    if step % config.likelihood_freq == 0 and step >= config.likelihood_threshold:\n",
    "        ema.store(score_model.parameters())\n",
    "        ema.copy_to(score_model.parameters())\n",
    "        mean_nll = compute_non_image_likelihood(\n",
    "            config, sde, state, likelihood_fn, inf_data_gen, step=step, likelihood_dir=likelihood_dir)\n",
    "        ema.restore(score_model.parameters())\n",
    "\n",
    "    if (step % config.snapshot_freq == 0 or step == num_total_iter) and config.global_rank == 0 and step >= config.snapshot_threshold:\n",
    "\n",
    "        ema.store(score_model.parameters())\n",
    "        ema.copy_to(score_model.parameters())\n",
    "        x, v, nfe = sampling_fn(score_model)\n",
    "        ema.restore(score_model.parameters())\n",
    "\n",
    "        this_sample_dir = os.path.join(sample_dir, 'iter_%d' % step)\n",
    "        make_dir(this_sample_dir)\n",
    "\n",
    "        plt.scatter(x.cpu().numpy()[:, 0], x.cpu().numpy()[:, 1], s=3)\n",
    "        plt.savefig(os.path.join(this_sample_dir,\n",
    "                    'sample_rank_%d.png' % config.global_rank))\n",
    "        plt.close()\n",
    "\n",
    "        if config.sde == 'cld':\n",
    "            np.save(os.path.join(this_sample_dir, 'sample_x'), x.cpu())\n",
    "            np.save(os.path.join(this_sample_dir, 'sample_v'), v.cpu())\n",
    "        else:\n",
    "            np.save(os.path.join(this_sample_dir, 'sample'), x.cpu())\n",
    "\n",
    "    # Training\n",
    "    start_time = time.time()\n",
    "\n",
    "    # x = inf_data_gen(config.dataset, config.training_batch_size).to(\n",
    "    #     config.device)\n",
    "    x = get_CGL(x1, s1, config.training_batch_size)\n",
    "    loss = train_step_fn(state, x)\n",
    "\n",
    "    step += 1\n",
    "\n",
    "    if step%5000==0:\n",
    "        print(f'{step}: {loss}')\n"
   ]
  },
  {
   "cell_type": "code",
   "execution_count": 28,
   "metadata": {},
   "outputs": [],
   "source": [
    "v = torch.zeros_like(x)\n",
    "batch = torch.cat((x, v), dim=1)\n",
    "\n"
   ]
  },
  {
   "cell_type": "code",
   "execution_count": 29,
   "metadata": {},
   "outputs": [],
   "source": [
    "\n",
    "t = torch.rand(batch.shape[0], device=batch.device,\n",
    "                dtype=torch.float64) * (1.0 - config.loss_eps) + config.loss_eps\n",
    "perturbed_data, mean, _, batch_randn = sde.perturb_data(batch, t)\n",
    "perturbed_data = perturbed_data.type(torch.float32)\n",
    "mean = mean.type(torch.float32)"
   ]
  },
  {
   "cell_type": "code",
   "execution_count": 32,
   "metadata": {},
   "outputs": [
    {
     "data": {
      "text/plain": [
       "tensor([[-2.9926,  1.7069],\n",
       "        [ 1.4273, -2.8329],\n",
       "        [-3.4748,  0.4831],\n",
       "        [ 1.0685, -4.2980],\n",
       "        [-1.9400, -1.4848],\n",
       "        [-1.0833, -2.4446],\n",
       "        [ 0.1917, -0.6735],\n",
       "        [ 5.3180, -1.4559],\n",
       "        [ 1.3261, -3.7537],\n",
       "        [-0.8762,  1.5296],\n",
       "        [ 3.0055,  2.1972],\n",
       "        [-0.5455, -1.5458],\n",
       "        [-2.7946, -0.3220],\n",
       "        [-1.0525, -0.2158],\n",
       "        [ 0.6736,  0.0382],\n",
       "        [-0.7234, -0.1793],\n",
       "        [ 3.6413, -0.3859],\n",
       "        [-0.2347,  1.4075],\n",
       "        [-0.0564,  1.5485],\n",
       "        [-1.2596,  1.3756],\n",
       "        [ 0.5903, -0.7981],\n",
       "        [-0.4984, -2.6461],\n",
       "        [-0.8999, -4.4828],\n",
       "        [ 0.5482,  0.6539],\n",
       "        [-2.8646, -0.3936],\n",
       "        [-1.2160, -2.3378],\n",
       "        [-1.6629, -2.7569],\n",
       "        [ 4.0403, -0.3748],\n",
       "        [-1.0178, -0.7030],\n",
       "        [-0.4695,  2.5781],\n",
       "        [-1.2542, -4.5110],\n",
       "        [ 2.1684, -1.9626],\n",
       "        [ 1.2561,  0.2499],\n",
       "        [-0.0779, -0.6574],\n",
       "        [ 2.2507, -0.1936],\n",
       "        [-4.0150, -1.0711],\n",
       "        [ 0.0561, -0.8324],\n",
       "        [-3.3525, -0.2115],\n",
       "        [-0.4623,  1.4993],\n",
       "        [ 0.4010,  1.0473],\n",
       "        [-2.8568, -4.0368],\n",
       "        [ 3.8808,  0.9872],\n",
       "        [-0.7497,  2.0779],\n",
       "        [-3.5216,  0.4016],\n",
       "        [ 3.6304,  0.1585],\n",
       "        [-0.3585,  2.5809],\n",
       "        [-2.9389, -0.1998],\n",
       "        [ 0.0400, -0.1445],\n",
       "        [ 0.2917, -1.3138],\n",
       "        [ 1.1820,  0.0755],\n",
       "        [-0.4628, -0.1879],\n",
       "        [ 1.5669,  4.3384],\n",
       "        [-1.1052, -0.4309],\n",
       "        [ 1.9345,  2.3555],\n",
       "        [ 3.5360, -1.2926],\n",
       "        [ 4.9385,  1.1794],\n",
       "        [ 1.3804,  1.9530],\n",
       "        [ 0.8199,  4.3424],\n",
       "        [ 4.8539, -1.7416],\n",
       "        [ 0.1601, -1.2373],\n",
       "        [-0.0341,  1.3413],\n",
       "        [-1.7513,  2.6541],\n",
       "        [ 1.4177, -2.0822],\n",
       "        [-1.8990,  0.1763]], device='cuda:0', grad_fn=<MulBackward0>)"
      ]
     },
     "execution_count": 32,
     "metadata": {},
     "output_type": "execute_result"
    }
   ],
   "source": [
    "score = score_model(perturbed_data.type(torch.float32), t.type(torch.float32))\n",
    "noise_multiplier = sde.noise_multiplier(t).type(torch.float32)\n",
    "noise_multiplier * score"
   ]
  },
  {
   "cell_type": "code",
   "execution_count": 50,
   "metadata": {},
   "outputs": [
    {
     "data": {
      "text/plain": [
       "(tensor([[-1.4803,  0.9890,  0.0000,  0.0000],\n",
       "         [ 0.7053,  0.5600,  0.0000,  0.0000],\n",
       "         [-0.9176,  0.9870,  0.0000,  0.0000],\n",
       "         [ 0.8516,  0.5000,  0.0000,  0.0000],\n",
       "         [ 0.3886,  0.7990,  0.0000,  0.0000],\n",
       "         [ 0.3964,  0.7380,  0.0000,  0.0000],\n",
       "         [ 0.8748,  0.4720,  0.0000,  0.0000],\n",
       "         [ 0.6744,  0.5810,  0.0000,  0.0000],\n",
       "         [ 0.8498,  0.5450,  0.0000,  0.0000],\n",
       "         [ 0.2834,  0.7400,  0.0000,  0.0000],\n",
       "         [ 0.8538,  0.4870,  0.0000,  0.0000],\n",
       "         [ 0.6117,  0.6320,  0.0000,  0.0000],\n",
       "         [-1.0584,  0.9660,  0.0000,  0.0000],\n",
       "         [ 0.3562,  0.7200,  0.0000,  0.0000],\n",
       "         [ 0.4537,  0.6830,  0.0000,  0.0000],\n",
       "         [-1.5259,  0.9910,  0.0000,  0.0000],\n",
       "         [ 0.5325,  0.6600,  0.0000,  0.0000],\n",
       "         [ 0.6929,  0.5840,  0.0000,  0.0000],\n",
       "         [ 0.0894,  0.8080,  0.0000,  0.0000],\n",
       "         [-1.4382,  0.9960,  0.0000,  0.0000],\n",
       "         [-0.6354,  0.9610,  0.0000,  0.0000],\n",
       "         [ 0.3809,  0.7140,  0.0000,  0.0000],\n",
       "         [ 0.8961,  0.4980,  0.0000,  0.0000],\n",
       "         [ 0.5243,  0.6420,  0.0000,  0.0000],\n",
       "         [ 0.1660,  0.7860,  0.0000,  0.0000],\n",
       "         [-0.7139,  0.9700,  0.0000,  0.0000],\n",
       "         [-1.3787,  1.0000,  0.0000,  0.0000],\n",
       "         [ 0.0246,  0.8060,  0.0000,  0.0000],\n",
       "         [ 0.4250,  0.6780,  0.0000,  0.0000],\n",
       "         [ 0.6837,  0.5620,  0.0000,  0.0000],\n",
       "         [ 0.3842,  0.7230,  0.0000,  0.0000],\n",
       "         [-1.0693,  0.9860,  0.0000,  0.0000],\n",
       "         [-1.0254,  0.9900,  0.0000,  0.0000],\n",
       "         [-1.1289,  0.9950,  0.0000,  0.0000],\n",
       "         [-1.2051,  0.9790,  0.0000,  0.0000],\n",
       "         [-0.7866,  0.9700,  0.0000,  0.0000],\n",
       "         [ 0.6579,  0.5800,  0.0000,  0.0000],\n",
       "         [-0.9878,  0.9900,  0.0000,  0.0000],\n",
       "         [-0.6787,  0.9370,  0.0000,  0.0000],\n",
       "         [-0.1790,  0.9180,  0.0000,  0.0000],\n",
       "         [ 0.5698,  0.6270,  0.0000,  0.0000],\n",
       "         [-1.5202,  0.9930,  0.0000,  0.0000],\n",
       "         [-1.4232,  0.9960,  0.0000,  0.0000],\n",
       "         [-1.0832,  0.9930,  0.0000,  0.0000],\n",
       "         [ 0.4434,  0.6980,  0.0000,  0.0000],\n",
       "         [-0.5849,  0.9610,  0.0000,  0.0000],\n",
       "         [ 0.2715,  0.7590,  0.0000,  0.0000],\n",
       "         [ 0.5305,  0.6480,  0.0000,  0.0000],\n",
       "         [-1.4024,  0.9940,  0.0000,  0.0000],\n",
       "         [-1.0787,  0.9830,  0.0000,  0.0000],\n",
       "         [-1.2732,  0.9900,  0.0000,  0.0000],\n",
       "         [ 0.3826,  0.7350,  0.0000,  0.0000],\n",
       "         [-1.5302,  0.9900,  0.0000,  0.0000],\n",
       "         [ 0.4962,  0.6660,  0.0000,  0.0000],\n",
       "         [ 0.3735,  0.7060,  0.0000,  0.0000],\n",
       "         [-1.2773,  0.9940,  0.0000,  0.0000],\n",
       "         [ 0.5392,  0.6640,  0.0000,  0.0000],\n",
       "         [-0.1020,  0.9220,  0.0000,  0.0000],\n",
       "         [ 0.3929,  0.7400,  0.0000,  0.0000],\n",
       "         [-0.8721,  0.9840,  0.0000,  0.0000],\n",
       "         [-0.5618,  0.9230,  0.0000,  0.0000],\n",
       "         [-0.6139,  0.9650,  0.0000,  0.0000],\n",
       "         [-0.6637,  0.9340,  0.0000,  0.0000],\n",
       "         [-1.0075,  0.9900,  0.0000,  0.0000]], device='cuda:0',\n",
       "        dtype=torch.float64),\n",
       " tensor([[ 5.1163e-01,  7.9438e-01,  7.1664e-01, -4.2861e-01],\n",
       "         [ 7.5244e-01,  6.0218e-01, -1.0444e-01,  2.0754e-01],\n",
       "         [-9.3123e-01, -1.5529e-01,  8.2809e-01, -6.1576e-02],\n",
       "         [-1.2531e+00,  1.1633e+00, -2.7852e-01,  1.0482e+00],\n",
       "         [ 4.9518e-01,  1.8530e+00,  5.1188e-01,  3.8044e-01],\n",
       "         [-6.9685e-01,  4.7595e-02,  2.8400e-01,  6.0655e-01],\n",
       "         [ 6.0873e-01, -1.2911e+00, -3.0981e-03,  2.4115e-01],\n",
       "         [-1.4626e-01,  6.7629e-01, -1.0168e+00,  1.5049e-01],\n",
       "         [ 3.0585e-01,  8.4719e-02, -2.7735e-01,  6.8267e-01],\n",
       "         [ 1.3763e+00, -1.1230e+00,  2.7172e-01, -5.7482e-01],\n",
       "         [ 1.0749e+00, -9.8368e-01, -7.1232e-01, -6.6391e-01],\n",
       "         [ 4.6090e-01,  1.2774e+00,  1.7525e-01,  3.7180e-01],\n",
       "         [ 3.3337e-01, -1.9744e+00,  7.0379e-01,  1.7199e-01],\n",
       "         [ 9.1422e-02, -1.7424e-01,  2.7851e-01, -1.4200e-02],\n",
       "         [ 3.3232e-01, -1.4624e+00, -1.5162e-01, -1.1296e-01],\n",
       "         [ 8.6505e-01,  5.1832e-01,  2.1645e-01,  5.2259e-04],\n",
       "         [-1.9303e+00, -4.0336e-01, -9.5152e-01, -1.0854e-01],\n",
       "         [ 1.1221e+00, -6.5542e-01,  8.9964e-02, -4.1172e-01],\n",
       "         [-1.5403e+00,  2.3945e+00, -2.8033e-02, -2.5535e-01],\n",
       "         [ 2.6038e-02,  7.8044e-01,  3.2498e-01, -3.8385e-01],\n",
       "         [-6.8794e-01,  8.2696e-01, -1.1856e-01,  4.8114e-02],\n",
       "         [-1.1977e-01,  5.0917e-01,  1.5033e-01,  5.3845e-01],\n",
       "         [ 1.0232e+00,  6.8754e-01,  2.4053e-01,  5.1490e-01],\n",
       "         [ 2.3642e-01,  5.6120e-01, -7.6754e-02, -2.4169e-01],\n",
       "         [-1.0246e+00,  2.4650e-01,  6.9009e-01,  1.4746e-01],\n",
       "         [ 1.2382e+00, -5.6818e-01,  3.7236e-01,  3.4525e-01],\n",
       "         [-1.3836e+00,  1.0202e+00,  2.7804e-01,  4.0622e-01],\n",
       "         [-9.5897e-01,  6.5612e-01, -1.0625e+00,  3.9549e-02],\n",
       "         [-2.1414e-01, -1.8970e+00,  2.8434e-01,  2.9055e-01],\n",
       "         [-3.8314e-01,  1.2512e-02,  8.9912e-02, -7.1381e-01],\n",
       "         [ 3.8625e-01,  7.2725e-01,  1.2228e-01,  9.9163e-02],\n",
       "         [-5.6169e-01, -5.3086e-01, -5.6566e-01,  3.7167e-01],\n",
       "         [ 8.9637e-01,  5.4670e-01, -2.7760e-01, -1.1633e-01],\n",
       "         [-6.0292e-02,  2.3412e-01,  3.1442e-02,  8.0303e-02],\n",
       "         [ 4.1804e-01,  1.5471e-02, -5.4679e-01, -1.8278e-02],\n",
       "         [ 6.1243e-02,  2.5631e-01,  1.0397e+00,  2.1123e-01],\n",
       "         [ 1.4810e-01,  1.2084e+00, -2.9705e-03,  2.0493e-01],\n",
       "         [ 6.2902e-02,  1.1627e+00,  8.2906e-01,  1.0997e-02],\n",
       "         [-6.0532e-02,  1.3345e+00,  1.2233e-01, -3.7203e-01],\n",
       "         [ 1.7542e-01,  1.7943e+00, -9.1445e-02, -2.2756e-01],\n",
       "         [-9.1446e-01, -1.8438e+00,  7.3743e-01,  1.1097e+00],\n",
       "         [ 7.4844e-01, -6.2715e-03, -9.2504e-01, -2.6678e-01],\n",
       "         [ 1.2306e+00,  1.3427e+00,  2.6140e-01, -5.1862e-01],\n",
       "         [-1.8619e-02,  8.9519e-01,  8.8313e-01, -1.5563e-01],\n",
       "         [-2.2011e+00,  1.9399e+00, -9.8305e-01,  4.0594e-02],\n",
       "         [-6.7698e-01, -2.2462e-01,  5.6880e-02, -6.2693e-01],\n",
       "         [ 2.9073e-01,  3.3448e-01,  5.4966e-01, -1.2273e-01],\n",
       "         [ 1.3945e-01,  2.5343e-01,  5.0352e-03, -4.3117e-02],\n",
       "         [-1.4476e+00, -1.2038e+00, -5.2669e-02,  4.2335e-01],\n",
       "         [-3.1243e+00,  9.5190e-01, -3.7918e-01,  2.3546e-02],\n",
       "         [ 5.7640e-01,  1.2502e+00,  1.7456e-01,  1.2182e-02],\n",
       "         [-6.5009e-01,  3.8905e-01, -4.5187e-01, -1.1439e+00],\n",
       "         [-1.2994e-01,  6.4530e-02,  2.9105e-01, -3.5387e-03],\n",
       "         [-2.9367e-02,  2.4400e-01, -5.0812e-01, -6.4812e-01],\n",
       "         [-4.0884e-01,  1.5519e+00, -7.5498e-01,  2.7195e-01],\n",
       "         [ 1.3218e-01, -1.3204e+00, -1.1932e+00, -3.5235e-01],\n",
       "         [-3.2867e-01,  5.2988e-01, -3.6152e-01, -5.5642e-01],\n",
       "         [ 4.5530e-01,  1.8473e+00, -2.5099e-01, -1.0446e+00],\n",
       "         [-4.2717e-03,  2.0983e-01, -1.1935e+00,  3.9743e-01],\n",
       "         [ 9.0815e-01,  1.1473e+00,  6.7994e-03,  2.7869e-01],\n",
       "         [-1.6410e+00, -1.3435e-01, -3.6134e-02, -3.5192e-01],\n",
       "         [-1.6328e+00,  1.3637e-01,  3.5325e-01, -7.6199e-01],\n",
       "         [-7.3523e-01,  9.0717e-01, -1.6615e-01,  1.2690e-01],\n",
       "         [-9.1533e-01, -6.4752e-01,  4.5856e-01, -1.0888e-01]], device='cuda:0'))"
      ]
     },
     "execution_count": 50,
     "metadata": {},
     "output_type": "execute_result"
    }
   ],
   "source": [
    "\n",
    "idx = np.argsort(t.cpu().numpy())\n",
    "batch, perturbed_data"
   ]
  },
  {
   "cell_type": "code",
   "execution_count": 47,
   "metadata": {},
   "outputs": [
    {
     "data": {
      "text/plain": [
       "[<matplotlib.lines.Line2D at 0x7f1b8a60fe50>]"
      ]
     },
     "execution_count": 47,
     "metadata": {},
     "output_type": "execute_result"
    },
    {
     "data": {
      "image/png": "[encoded data removed]",
      "text/plain": [
       "<Figure size 640x480 with 1 Axes>"
      ]
     },
     "metadata": {},
     "output_type": "display_data"
    }
   ],
   "source": [
    "plt.plot(noise_multiplier[idx].cpu())"
   ]
  },
  {
   "cell_type": "code",
   "execution_count": null,
   "metadata": {},
   "outputs": [],
   "source": []
  },
  {
   "cell_type": "code",
   "execution_count": null,
   "metadata": {},
   "outputs": [],
   "source": []
  },
  {
   "cell_type": "code",
   "execution_count": null,
   "metadata": {},
   "outputs": [],
   "source": []
  },
  {
   "cell_type": "code",
   "execution_count": 1,
   "metadata": {},
   "outputs": [],
   "source": []
  },
  {
   "cell_type": "code",
   "execution_count": null,
   "metadata": {},
   "outputs": [],
   "source": []
  }
 ],
 "metadata": {
  "kernelspec": {
   "display_name": "py38",
   "language": "python",
   "name": "python3"
  },
  "language_info": {
   "codemirror_mode": {
    "name": "ipython",
    "version": 3
   },
   "file_extension": ".py",
   "mimetype": "text/x-python",
   "name": "python",
   "nbconvert_exporter": "python",
   "pygments_lexer": "ipython3",
   "version": "3.8.5"
  },
  "orig_nbformat": 4
 },
 "nbformat": 4,
 "nbformat_minor": 2
}
